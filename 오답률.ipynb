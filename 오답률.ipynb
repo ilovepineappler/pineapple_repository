{
 "cells": [
  {
   "cell_type": "code",
   "execution_count": 90,
   "metadata": {},
   "outputs": [
    {
     "ename": "SyntaxError",
     "evalue": "non-keyword arg after keyword arg (<ipython-input-90-a53839583fbf>, line 16)",
     "output_type": "error",
     "traceback": [
      "\u001b[1;36m  File \u001b[1;32m\"<ipython-input-90-a53839583fbf>\"\u001b[1;36m, line \u001b[1;32m16\u001b[0m\n\u001b[1;33m    fig.plot(x='student',y='wrong answer',finalresult)\u001b[0m\n\u001b[1;31mSyntaxError\u001b[0m\u001b[1;31m:\u001b[0m non-keyword arg after keyword arg\n"
     ]
    }
   ],
   "source": [
    "from pandas import Series,DataFrame\n",
    "import pandas as pd\n",
    "import numpy as np\n",
    "import csv\n",
    "import matplotlib.pyplot as plt\n",
    "\n",
    "df = pd.read_csv(\"python_score.csv\" ,header =None )\n",
    "df.iloc[:, 0]\n",
    "tf=df.eq(df.iloc[:10 ,10], axis=0)\n",
    "tf2=tf*1\n",
    "print tf2\n",
    "result=tf2.T\n",
    "result1=result.sum(axis=1)\n",
    "finalresult=(1.0-(result1/8))*100\n",
    "fig=plt.figure()\n",
    "fig.plot(x='student',y='wrong answer',finalresult)\n",
    "fig.show()\n"
   ]
  }
 ],
 "metadata": {
  "kernelspec": {
   "display_name": "Python 2",
   "language": "python",
   "name": "python2"
  },
  "language_info": {
   "codemirror_mode": {
    "name": "ipython",
    "version": 2
   },
   "file_extension": ".py",
   "mimetype": "text/x-python",
   "name": "python",
   "nbconvert_exporter": "python",
   "pygments_lexer": "ipython2",
   "version": "2.7.14"
  }
 },
 "nbformat": 4,
 "nbformat_minor": 2
}
